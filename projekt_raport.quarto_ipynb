{
  "cells": [
    {
      "cell_type": "markdown",
      "metadata": {},
      "source": [
        "---\n",
        "title: \"Projekt z Baz Danych – Raport Końcowy\"\n",
        "format:\n",
        "  html:\n",
        "    toc: true\n",
        "    number-sections: true\n",
        "    code-fold: true\n",
        "    code-summary: \"Rozwiń kod\"\n",
        "    theme:\n",
        "      light: flatly\n",
        "      dark: darkly\n",
        "page-layout: full\n",
        "---\n",
        "\n",
        "\n",
        "# Autorzy\n",
        "\n",
        "- Jakub Ciągło  \n",
        "- Mateusz Ćwiek  \n",
        "- Marek Dworaczyk  \n",
        "- Rafał Głodek\n",
        "\n",
        "# Importy"
      ],
      "id": "39d2d4cb"
    },
    {
      "cell_type": "code",
      "metadata": {},
      "source": [
        "import random\n",
        "import math\n",
        "from datetime import date, datetime, timedelta, time\n",
        "import numpy as np\n",
        "import pandas as pd\n",
        "import mysql.connector\n",
        "import plotly.express as px\n",
        "import seaborn as sns\n",
        "import matplotlib.pyplot as plt\n",
        "import matplotlib.cm as cm\n",
        "import matplotlib.colors as colors\n",
        "from scipy import stats"
      ],
      "id": "eec31363",
      "execution_count": null,
      "outputs": []
    },
    {
      "cell_type": "code",
      "metadata": {},
      "source": [
        "con = mysql.connector.connect(\n",
        "    host = \"giniewicz.it\",\n",
        "    user = \"team13\",\n",
        "    password = \"te@mlie\",\n",
        "    database = \"team13\"\n",
        ")"
      ],
      "id": "c0bcb77b",
      "execution_count": null,
      "outputs": []
    },
    {
      "cell_type": "markdown",
      "metadata": {},
      "source": [
        "# Analiza danych\n",
        "\n",
        "## Problem pierwszy\n",
        "\n",
        "Pytanie: Znajdź najpopularniejsze rodzaje wypraw, porównaj koszta i zyski, czy są opłacalne?\n"
      ],
      "id": "869079c5"
    },
    {
      "cell_type": "code",
      "metadata": {},
      "source": [
        "query = \"\"\"\n",
        "SELECT\n",
        "    tt.name AS 'Rodzaj wyprawy',\n",
        "    COUNT(t.trip_id) AS 'Liczba wypraw',\n",
        "    COALESCE(SUM(ac.total_trip_cost), 0) AS 'Całkowite koszty',\n",
        "    COALESCE(SUM(ar.total_trip_revenue), 0) AS 'Całkowite przychody',\n",
        "    (COALESCE(SUM(ar.total_trip_revenue), 0) - COALESCE(SUM(ac.total_trip_cost), 0)) AS 'Zysk'\n",
        "FROM\n",
        "    trip_types tt\n",
        "LEFT JOIN\n",
        "    trips t ON tt.trip_type_id = t.trip_type_id\n",
        "LEFT JOIN\n",
        "    (SELECT trip_id, SUM(cost_amount) AS total_trip_cost FROM costs GROUP BY trip_id) ac \n",
        "    ON t.trip_id = ac.trip_id\n",
        "LEFT JOIN\n",
        "    (SELECT trip_id, SUM(amount) AS total_trip_revenue FROM transactions WHERE status = 'Completed' GROUP BY trip_id) ar \n",
        "    ON t.trip_id = ar.trip_id\n",
        "GROUP BY\n",
        "    tt.name\n",
        "ORDER BY\n",
        "    `Liczba wypraw` DESC;\n",
        "\"\"\""
      ],
      "id": "c93fa1a8",
      "execution_count": null,
      "outputs": []
    },
    {
      "cell_type": "code",
      "metadata": {},
      "source": [
        "df_profitability = pd.read_sql(query, con)\n",
        "con.close()\n",
        "\n",
        "print(\"Analiza popularności i opłacalności rodzajów wypraw:\")\n",
        "print(df_profitability.to_string())"
      ],
      "id": "ab4ae2ad",
      "execution_count": null,
      "outputs": []
    },
    {
      "cell_type": "code",
      "metadata": {},
      "source": [
        "print(\"\\n\\n--- Zautomatyzowana Analiza ---\")\n",
        "print(\"\\n## 🏆 TOP 3 najpopularniejsze rodzaje wypraw:\\n\")\n",
        "top_3_profitability = df_profitability.head(3)\n",
        "\n",
        "for index, row in top_3_profitability.iterrows():\n",
        "    print(\n",
        "        f\"{index + 1}. Rodzaj '{row['Rodzaj wyprawy']}': \"\n",
        "        f\"{row['Liczba wypraw']} wypraw, \"\n",
        "        f\"które przyniosły {row['Całkowite przychody']:.2f} przychodu.\"\n",
        "    )\n",
        "\n",
        "print(\"\\n## 💰 Analiza rentowności rodzajów wypraw:\\n\")\n",
        "unprofitable_types = df_profitability[df_profitability['Zysk'] < 0]\n",
        "if unprofitable_types.empty:\n",
        "    print(\"✅ Wszystkie rodzaje wypraw są opłacalne i nie przynoszą strat.\")\n",
        "else:\n",
        "    print(\"⚠️ UWAGA! Następujące rodzaje wypraw przynoszą straty:\")\n",
        "    for index, row in unprofitable_types.iterrows():\n",
        "        print(\n",
        "            f\"- '{row['Rodzaj wyprawy']}': zanotowano stratę w wysokości {-row['Zysk']:.2f}\"\n",
        "        )\n",
        "\n",
        "print(\"\\n----------------------------------\")"
      ],
      "id": "58b165f8",
      "execution_count": null,
      "outputs": []
    },
    {
      "cell_type": "code",
      "metadata": {},
      "source": [
        "con = mysql.connector.connect(\n",
        "    host=\"giniewicz.it\",\n",
        "    user=\"team13\",\n",
        "    password=\"te@mlie\",\n",
        "    database=\"team13\"\n",
        ")\n",
        "\n",
        "query_clients_per_month = \"\"\"\n",
        "SELECT\n",
        "    DATE_FORMAT(t.departure_datetime, '%Y-%m') AS miesiac,\n",
        "    COUNT(tp.client_id) AS liczba_klientow\n",
        "FROM\n",
        "    trips t\n",
        "JOIN\n",
        "    trip_participants tp ON t.trip_id = tp.trip_id\n",
        "GROUP BY\n",
        "    miesiac\n",
        "ORDER BY\n",
        "    miesiac ASC;\n",
        "\"\"\""
      ],
      "id": "d1fe1b68",
      "execution_count": null,
      "outputs": []
    },
    {
      "cell_type": "code",
      "metadata": {},
      "source": [
        "df_clients = pd.read_sql(query_clients_per_month, con)"
      ],
      "id": "43d38e53",
      "execution_count": null,
      "outputs": []
    },
    {
      "cell_type": "code",
      "metadata": {},
      "source": [
        "plt.figure(figsize=(14, 7))\n",
        "sns.barplot(data=df_clients, x='miesiac', y='liczba_klientow', color='steelblue')\n",
        "plt.title('Miesięczna liczba obsłużonych klientów', fontsize=16)\n",
        "plt.xlabel('Miesiąc', fontsize=12)\n",
        "plt.ylabel('Liczba klientów', fontsize=12)\n",
        "plt.xticks(rotation=45, ha='right')\n",
        "plt.tight_layout()\n",
        "plt.show()"
      ],
      "id": "1e63f7e0",
      "execution_count": null,
      "outputs": []
    },
    {
      "cell_type": "code",
      "metadata": {},
      "source": [
        "x = np.arange(len(df_clients)) \n",
        "y = df_clients['liczba_klientow'] \n",
        "slope, intercept, r_value, p_value, std_err = stats.linregress(x, y)\n",
        "# Ustalamy próg \"stagnacji\", aby uniknąć klasyfikowania bardzo małych wahań\n",
        "# jako trendu. Np. jeśli wzrost/spadek jest mniejszy niż 0.5 klienta na miesiąc.\n",
        "stagnation_threshold = 0.5\n",
        "\n",
        "if slope > stagnation_threshold:\n",
        "    wniosek = f\"Firma wykazuje wyraźny trend WZROSTOWY.\"\n",
        "    szczegoly = f\"Średnio, z każdym miesiącem liczba klientów rośnie o {slope:.2f}.\"\n",
        "elif slope < -stagnation_threshold:\n",
        "    wniosek = f\"Firma wykazuje wyraźny trend SPADKOWY.\"\n",
        "    szczegoly = f\"Średnio, z każdym miesiącem liczba klientów maleje o {-slope:.2f}.\"\n",
        "else:\n",
        "    wniosek = \"Firma wykazuje STAGNACJĘ.\"\n",
        "    szczegoly = f\"Brak wyraźnego trendu wzrostowego lub spadkowego (nachylenie linii trendu wynosi {slope:.2f}).\"\n",
        "print(\"--- Automatyczna Analiza Trendu ---\")\n",
        "print(f\"Współczynnik nachylenia linii trendu: {slope:.4f}\")\n",
        "print(f\"\\nWniosek: {wniosek}\")\n",
        "print(szczegoly)\n",
        "print(\"-----------------------------------\")"
      ],
      "id": "2c789ab1",
      "execution_count": null,
      "outputs": []
    }
  ],
  "metadata": {
    "kernelspec": {
      "name": "python3",
      "language": "python",
      "display_name": "Python 3 (ipykernel)",
      "path": "C:\\Users\\rafal\\AppData\\Roaming\\Python\\share\\jupyter\\kernels\\python3"
    }
  },
  "nbformat": 4,
  "nbformat_minor": 5
}